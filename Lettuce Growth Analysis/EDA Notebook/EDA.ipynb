{
 "cells": [
  {
   "cell_type": "markdown",
   "metadata": {},
   "source": [
    "# About the dataset\n",
    "This datset provides valuable information about how different environmental conditions impact the growth of lettuce plants, providing detailed insights over time. The dataset contains following features:\n",
    "1. Plant Identifier (Plant_ID): A unique identifier assigned to each plant.\n",
    "2. Date (Date): The date of Observation.\n",
    "3. Temperature (°C): The recorded temperature expressed in degrees Celsius.\n",
    "4. Humidity (%): The percentage representing the humidity level.\n",
    "5. Total Dissolved Solids (TDS) Value (ppm): The measurement of Total Dissolved Solids given in parts per million.\n",
    "6. pH Level: The measurement of the environmental pH level.\n",
    "7. Growth Days:The duration in days from the initial growth stage of the plant to its full maturity."
   ]
  },
  {
   "cell_type": "markdown",
   "metadata": {},
   "source": [
    "#### Import Libraries"
   ]
  },
  {
   "cell_type": "code",
   "execution_count": 1,
   "metadata": {},
   "outputs": [],
   "source": [
    "# import all the libraries\n",
    "import numpy as np\n",
    "import pandas as pd\n",
    "import seaborn as sns\n",
    "import matplotlib.pyplot as plt\n",
    "import plotly.express as px\n",
    "from pathlib import Path"
   ]
  },
  {
   "cell_type": "markdown",
   "metadata": {},
   "source": [
    "#### Read Dataset"
   ]
  },
  {
   "cell_type": "code",
   "execution_count": 2,
   "metadata": {},
   "outputs": [
    {
     "data": {
      "text/html": [
       "<div>\n",
       "<style scoped>\n",
       "    .dataframe tbody tr th:only-of-type {\n",
       "        vertical-align: middle;\n",
       "    }\n",
       "\n",
       "    .dataframe tbody tr th {\n",
       "        vertical-align: top;\n",
       "    }\n",
       "\n",
       "    .dataframe thead th {\n",
       "        text-align: right;\n",
       "    }\n",
       "</style>\n",
       "<table border=\"1\" class=\"dataframe\">\n",
       "  <thead>\n",
       "    <tr style=\"text-align: right;\">\n",
       "      <th></th>\n",
       "      <th>Plant_ID</th>\n",
       "      <th>Date</th>\n",
       "      <th>Temperature (°C)</th>\n",
       "      <th>Humidity (%)</th>\n",
       "      <th>TDS Value (ppm)</th>\n",
       "      <th>pH Level</th>\n",
       "      <th>Growth Days</th>\n",
       "    </tr>\n",
       "  </thead>\n",
       "  <tbody>\n",
       "    <tr>\n",
       "      <th>0</th>\n",
       "      <td>1</td>\n",
       "      <td>8/3/2023</td>\n",
       "      <td>33.4</td>\n",
       "      <td>53</td>\n",
       "      <td>582</td>\n",
       "      <td>6.4</td>\n",
       "      <td>1</td>\n",
       "    </tr>\n",
       "    <tr>\n",
       "      <th>1</th>\n",
       "      <td>1</td>\n",
       "      <td>8/4/2023</td>\n",
       "      <td>33.5</td>\n",
       "      <td>53</td>\n",
       "      <td>451</td>\n",
       "      <td>6.1</td>\n",
       "      <td>2</td>\n",
       "    </tr>\n",
       "    <tr>\n",
       "      <th>2</th>\n",
       "      <td>1</td>\n",
       "      <td>8/5/2023</td>\n",
       "      <td>33.4</td>\n",
       "      <td>59</td>\n",
       "      <td>678</td>\n",
       "      <td>6.4</td>\n",
       "      <td>3</td>\n",
       "    </tr>\n",
       "    <tr>\n",
       "      <th>3</th>\n",
       "      <td>1</td>\n",
       "      <td>8/6/2023</td>\n",
       "      <td>33.4</td>\n",
       "      <td>68</td>\n",
       "      <td>420</td>\n",
       "      <td>6.4</td>\n",
       "      <td>4</td>\n",
       "    </tr>\n",
       "    <tr>\n",
       "      <th>4</th>\n",
       "      <td>1</td>\n",
       "      <td>8/7/2023</td>\n",
       "      <td>33.4</td>\n",
       "      <td>74</td>\n",
       "      <td>637</td>\n",
       "      <td>6.5</td>\n",
       "      <td>5</td>\n",
       "    </tr>\n",
       "  </tbody>\n",
       "</table>\n",
       "</div>"
      ],
      "text/plain": [
       "   Plant_ID      Date  Temperature (°C)  Humidity (%)  TDS Value (ppm)  \\\n",
       "0         1  8/3/2023              33.4            53              582   \n",
       "1         1  8/4/2023              33.5            53              451   \n",
       "2         1  8/5/2023              33.4            59              678   \n",
       "3         1  8/6/2023              33.4            68              420   \n",
       "4         1  8/7/2023              33.4            74              637   \n",
       "\n",
       "   pH Level  Growth Days  \n",
       "0       6.4            1  \n",
       "1       6.1            2  \n",
       "2       6.4            3  \n",
       "3       6.4            4  \n",
       "4       6.5            5  "
      ]
     },
     "execution_count": 2,
     "metadata": {},
     "output_type": "execute_result"
    }
   ],
   "source": [
    "path = Path.cwd().parent\n",
    "path = Path.cwd().parent / 'Dataset' / 'lettuce_dataset.csv'\n",
    "df = pd.read_csv(path, encoding='latin-1')\n",
    "df.head()"
   ]
  },
  {
   "cell_type": "code",
   "execution_count": 3,
   "metadata": {},
   "outputs": [
    {
     "data": {
      "text/html": [
       "<div>\n",
       "<style scoped>\n",
       "    .dataframe tbody tr th:only-of-type {\n",
       "        vertical-align: middle;\n",
       "    }\n",
       "\n",
       "    .dataframe tbody tr th {\n",
       "        vertical-align: top;\n",
       "    }\n",
       "\n",
       "    .dataframe thead th {\n",
       "        text-align: right;\n",
       "    }\n",
       "</style>\n",
       "<table border=\"1\" class=\"dataframe\">\n",
       "  <thead>\n",
       "    <tr style=\"text-align: right;\">\n",
       "      <th></th>\n",
       "      <th>Plant_ID</th>\n",
       "      <th>Date</th>\n",
       "      <th>Temperature (°C)</th>\n",
       "      <th>Humidity (%)</th>\n",
       "      <th>TDS Value (ppm)</th>\n",
       "      <th>pH Level</th>\n",
       "      <th>Growth Days</th>\n",
       "    </tr>\n",
       "  </thead>\n",
       "  <tbody>\n",
       "    <tr>\n",
       "      <th>3164</th>\n",
       "      <td>70</td>\n",
       "      <td>9/13/2023</td>\n",
       "      <td>19.4</td>\n",
       "      <td>72</td>\n",
       "      <td>475</td>\n",
       "      <td>6.1</td>\n",
       "      <td>42</td>\n",
       "    </tr>\n",
       "    <tr>\n",
       "      <th>3165</th>\n",
       "      <td>70</td>\n",
       "      <td>9/14/2023</td>\n",
       "      <td>22.5</td>\n",
       "      <td>80</td>\n",
       "      <td>668</td>\n",
       "      <td>6.7</td>\n",
       "      <td>43</td>\n",
       "    </tr>\n",
       "    <tr>\n",
       "      <th>3166</th>\n",
       "      <td>70</td>\n",
       "      <td>9/15/2023</td>\n",
       "      <td>22.5</td>\n",
       "      <td>62</td>\n",
       "      <td>476</td>\n",
       "      <td>6.6</td>\n",
       "      <td>44</td>\n",
       "    </tr>\n",
       "    <tr>\n",
       "      <th>3167</th>\n",
       "      <td>70</td>\n",
       "      <td>9/16/2023</td>\n",
       "      <td>24.6</td>\n",
       "      <td>79</td>\n",
       "      <td>621</td>\n",
       "      <td>6.0</td>\n",
       "      <td>45</td>\n",
       "    </tr>\n",
       "    <tr>\n",
       "      <th>3168</th>\n",
       "      <td>70</td>\n",
       "      <td>9/17/2023</td>\n",
       "      <td>22.6</td>\n",
       "      <td>69</td>\n",
       "      <td>521</td>\n",
       "      <td>6.5</td>\n",
       "      <td>46</td>\n",
       "    </tr>\n",
       "  </tbody>\n",
       "</table>\n",
       "</div>"
      ],
      "text/plain": [
       "      Plant_ID       Date  Temperature (°C)  Humidity (%)  TDS Value (ppm)  \\\n",
       "3164        70  9/13/2023              19.4            72              475   \n",
       "3165        70  9/14/2023              22.5            80              668   \n",
       "3166        70  9/15/2023              22.5            62              476   \n",
       "3167        70  9/16/2023              24.6            79              621   \n",
       "3168        70  9/17/2023              22.6            69              521   \n",
       "\n",
       "      pH Level  Growth Days  \n",
       "3164       6.1           42  \n",
       "3165       6.7           43  \n",
       "3166       6.6           44  \n",
       "3167       6.0           45  \n",
       "3168       6.5           46  "
      ]
     },
     "execution_count": 3,
     "metadata": {},
     "output_type": "execute_result"
    }
   ],
   "source": [
    "df.tail()"
   ]
  },
  {
   "cell_type": "code",
   "execution_count": 4,
   "metadata": {},
   "outputs": [
    {
     "data": {
      "text/plain": [
       "(3169, 7)"
      ]
     },
     "execution_count": 4,
     "metadata": {},
     "output_type": "execute_result"
    }
   ],
   "source": [
    "df.shape"
   ]
  },
  {
   "cell_type": "code",
   "execution_count": 5,
   "metadata": {},
   "outputs": [
    {
     "name": "stdout",
     "output_type": "stream",
     "text": [
      "<class 'pandas.core.frame.DataFrame'>\n",
      "RangeIndex: 3169 entries, 0 to 3168\n",
      "Data columns (total 7 columns):\n",
      " #   Column            Non-Null Count  Dtype  \n",
      "---  ------            --------------  -----  \n",
      " 0   Plant_ID          3169 non-null   int64  \n",
      " 1   Date              3169 non-null   object \n",
      " 2   Temperature (°C)  3169 non-null   float64\n",
      " 3   Humidity (%)      3169 non-null   int64  \n",
      " 4   TDS Value (ppm)   3169 non-null   int64  \n",
      " 5   pH Level          3169 non-null   float64\n",
      " 6   Growth Days       3169 non-null   int64  \n",
      "dtypes: float64(2), int64(4), object(1)\n",
      "memory usage: 173.4+ KB\n"
     ]
    }
   ],
   "source": [
    "df.info()"
   ]
  },
  {
   "cell_type": "code",
   "execution_count": 6,
   "metadata": {},
   "outputs": [
    {
     "data": {
      "text/html": [
       "<div>\n",
       "<style scoped>\n",
       "    .dataframe tbody tr th:only-of-type {\n",
       "        vertical-align: middle;\n",
       "    }\n",
       "\n",
       "    .dataframe tbody tr th {\n",
       "        vertical-align: top;\n",
       "    }\n",
       "\n",
       "    .dataframe thead th {\n",
       "        text-align: right;\n",
       "    }\n",
       "</style>\n",
       "<table border=\"1\" class=\"dataframe\">\n",
       "  <thead>\n",
       "    <tr style=\"text-align: right;\">\n",
       "      <th></th>\n",
       "      <th>Plant_ID</th>\n",
       "      <th>Temperature (°C)</th>\n",
       "      <th>Humidity (%)</th>\n",
       "      <th>TDS Value (ppm)</th>\n",
       "      <th>pH Level</th>\n",
       "      <th>Growth Days</th>\n",
       "    </tr>\n",
       "  </thead>\n",
       "  <tbody>\n",
       "    <tr>\n",
       "      <th>count</th>\n",
       "      <td>3169.000000</td>\n",
       "      <td>3169.000000</td>\n",
       "      <td>3169.000000</td>\n",
       "      <td>3169.000000</td>\n",
       "      <td>3169.000000</td>\n",
       "      <td>3169.000000</td>\n",
       "    </tr>\n",
       "    <tr>\n",
       "      <th>mean</th>\n",
       "      <td>35.441780</td>\n",
       "      <td>28.142222</td>\n",
       "      <td>64.873462</td>\n",
       "      <td>598.045440</td>\n",
       "      <td>6.399211</td>\n",
       "      <td>23.140107</td>\n",
       "    </tr>\n",
       "    <tr>\n",
       "      <th>std</th>\n",
       "      <td>20.243433</td>\n",
       "      <td>4.670521</td>\n",
       "      <td>8.988985</td>\n",
       "      <td>115.713047</td>\n",
       "      <td>0.234418</td>\n",
       "      <td>13.075415</td>\n",
       "    </tr>\n",
       "    <tr>\n",
       "      <th>min</th>\n",
       "      <td>1.000000</td>\n",
       "      <td>18.000000</td>\n",
       "      <td>50.000000</td>\n",
       "      <td>400.000000</td>\n",
       "      <td>6.000000</td>\n",
       "      <td>1.000000</td>\n",
       "    </tr>\n",
       "    <tr>\n",
       "      <th>25%</th>\n",
       "      <td>18.000000</td>\n",
       "      <td>23.600000</td>\n",
       "      <td>57.000000</td>\n",
       "      <td>498.000000</td>\n",
       "      <td>6.200000</td>\n",
       "      <td>12.000000</td>\n",
       "    </tr>\n",
       "    <tr>\n",
       "      <th>50%</th>\n",
       "      <td>35.000000</td>\n",
       "      <td>30.200000</td>\n",
       "      <td>65.000000</td>\n",
       "      <td>593.000000</td>\n",
       "      <td>6.400000</td>\n",
       "      <td>23.000000</td>\n",
       "    </tr>\n",
       "    <tr>\n",
       "      <th>75%</th>\n",
       "      <td>53.000000</td>\n",
       "      <td>31.500000</td>\n",
       "      <td>73.000000</td>\n",
       "      <td>699.000000</td>\n",
       "      <td>6.600000</td>\n",
       "      <td>34.000000</td>\n",
       "    </tr>\n",
       "    <tr>\n",
       "      <th>max</th>\n",
       "      <td>70.000000</td>\n",
       "      <td>33.500000</td>\n",
       "      <td>80.000000</td>\n",
       "      <td>800.000000</td>\n",
       "      <td>6.800000</td>\n",
       "      <td>48.000000</td>\n",
       "    </tr>\n",
       "  </tbody>\n",
       "</table>\n",
       "</div>"
      ],
      "text/plain": [
       "          Plant_ID  Temperature (°C)  Humidity (%)  TDS Value (ppm)  \\\n",
       "count  3169.000000       3169.000000   3169.000000      3169.000000   \n",
       "mean     35.441780         28.142222     64.873462       598.045440   \n",
       "std      20.243433          4.670521      8.988985       115.713047   \n",
       "min       1.000000         18.000000     50.000000       400.000000   \n",
       "25%      18.000000         23.600000     57.000000       498.000000   \n",
       "50%      35.000000         30.200000     65.000000       593.000000   \n",
       "75%      53.000000         31.500000     73.000000       699.000000   \n",
       "max      70.000000         33.500000     80.000000       800.000000   \n",
       "\n",
       "          pH Level  Growth Days  \n",
       "count  3169.000000  3169.000000  \n",
       "mean      6.399211    23.140107  \n",
       "std       0.234418    13.075415  \n",
       "min       6.000000     1.000000  \n",
       "25%       6.200000    12.000000  \n",
       "50%       6.400000    23.000000  \n",
       "75%       6.600000    34.000000  \n",
       "max       6.800000    48.000000  "
      ]
     },
     "execution_count": 6,
     "metadata": {},
     "output_type": "execute_result"
    }
   ],
   "source": [
    "df.describe()"
   ]
  },
  {
   "cell_type": "code",
   "execution_count": 7,
   "metadata": {},
   "outputs": [
    {
     "data": {
      "text/plain": [
       "Plant_ID            0\n",
       "Date                0\n",
       "Temperature (°C)    0\n",
       "Humidity (%)        0\n",
       "TDS Value (ppm)     0\n",
       "pH Level            0\n",
       "Growth Days         0\n",
       "dtype: int64"
      ]
     },
     "execution_count": 7,
     "metadata": {},
     "output_type": "execute_result"
    }
   ],
   "source": [
    "df.isna().sum()"
   ]
  },
  {
   "cell_type": "code",
   "execution_count": 8,
   "metadata": {},
   "outputs": [
    {
     "data": {
      "text/plain": [
       "0"
      ]
     },
     "execution_count": 8,
     "metadata": {},
     "output_type": "execute_result"
    }
   ],
   "source": [
    "df.duplicated().sum()"
   ]
  },
  {
   "cell_type": "code",
   "execution_count": 9,
   "metadata": {},
   "outputs": [],
   "source": [
    "df['Date'] = pd.to_datetime(df['Date'])"
   ]
  },
  {
   "cell_type": "markdown",
   "metadata": {},
   "source": [
    "#### Visualize the correlation matrix"
   ]
  },
  {
   "cell_type": "code",
   "execution_count": 15,
   "metadata": {},
   "outputs": [
    {
     "data": {
      "image/png": "[encoded data removed]",
      "text/plain": [
       "<Figure size 700x700 with 2 Axes>"
      ]
     },
     "metadata": {},
     "output_type": "display_data"
    }
   ],
   "source": [
    "plt.figure(figsize=(7,7))\n",
    "plt.imshow(df.corr(), cmap='Reds', interpolation='nearest')\n",
    "plt.colorbar()\n",
    "plt.xticks(ticks=np.arange(len(df.corr().columns)), labels=df.corr().columns, rotation=45, ha='right')\n",
    "plt.yticks(ticks=np.arange(len(df.corr().columns)), labels=df.corr().columns)\n",
    "for i in range(len(df.corr().columns)):\n",
    "    for j in range(len(df.corr().columns)):\n",
    "        plt.text(j, i, f'{df.corr().iloc[i, j]:.2f}', ha='center', va='center', color='black')\n",
    "plt.show()"
   ]
  },
  {
   "cell_type": "code",
   "execution_count": null,
   "metadata": {},
   "outputs": [],
   "source": []
  }
 ],
 "metadata": {
  "kernelspec": {
   "display_name": "base",
   "language": "python",
   "name": "python3"
  },
  "language_info": {
   "codemirror_mode": {
    "name": "ipython",
    "version": 3
   },
   "file_extension": ".py",
   "mimetype": "text/x-python",
   "name": "python",
   "nbconvert_exporter": "python",
   "pygments_lexer": "ipython3",
   "version": "3.11.7"
  }
 },
 "nbformat": 4,
 "nbformat_minor": 2
}
